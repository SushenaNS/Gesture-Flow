{
 "cells": [
  {
   "cell_type": "code",
   "execution_count": 1,
   "id": "8dfd7315",
   "metadata": {},
   "outputs": [],
   "source": [
    "import numpy as np\n",
    "from Lib.utils import mkdirs\n",
    "from Lib.resnet_model import Resnet3DBuilder\n",
    "import Lib.image as img\n",
    "from Lib.HistoryGraph import HistoryGraph"
   ]
  },
  {
   "cell_type": "code",
   "execution_count": 2,
   "id": "123d8fba",
   "metadata": {},
   "outputs": [],
   "source": [
    "from tensorflow.keras.optimizers import SGD"
   ]
  },
  {
   "cell_type": "code",
   "execution_count": 3,
   "id": "da0b825a",
   "metadata": {},
   "outputs": [],
   "source": [
    "from keras.callbacks import ModelCheckpoint"
   ]
  },
  {
   "cell_type": "code",
   "execution_count": 4,
   "id": "35362d4a",
   "metadata": {},
   "outputs": [],
   "source": [
    "target_size=(64,96)\n",
    "nb_frames=16\n",
    "skip=1\n",
    "batch_size=64\n",
    "input_shape=(nb_frames,)+ target_size+ (3,)\n",
    "nb_classes=27"
   ]
  },
  {
   "cell_type": "code",
   "execution_count": 5,
   "id": "e084fa7a",
   "metadata": {},
   "outputs": [],
   "source": [
    "workers=8\n",
    "use_multiprocessing = False \n",
    "max_queue_size = 20"
   ]
  },
  {
   "cell_type": "code",
   "execution_count": 6,
   "id": "5c965a19",
   "metadata": {},
   "outputs": [],
   "source": [
    "import pandas as pd\n",
    "import numpy as np\n",
    "\n",
    "import sys\n",
    "\n",
    "sys.executable\n",
    "\n",
    "class DataLoader():\n",
    "  def __init__(self,path_vid,path_labels,path_train=None,path_val=None,path_test=None):\n",
    "    self.path_vid=path_vid\n",
    "    self.path_labels=path_labels\n",
    "    self.path_train=path_train\n",
    "    self.path_val=path_val\n",
    "    self.path_test=path_test\n",
    "\n",
    "    self.get_labels(path_labels)\n",
    "\n",
    "    if self.path_train:\n",
    "      self.train_df = self.load_video_labels(self.path_train)\n",
    "    if self.path_val:\n",
    "      self.val_df =self.load_video_labels(self.path_val)\n",
    "    if self.path_test:\n",
    "      self.test_df=self.load_video_labels(self.path_test,mode=\"input\")\n",
    "\n",
    "  def get_labels(self,path_labels):\n",
    "    self.labels_df =pd.read_csv(path_labels,names=['labels'])\n",
    "    #extract labels from data frames\n",
    "    self.labels=[str(label[0]) for label in self.labels_df.values]\n",
    " #   print(self.labels)\n",
    "    self.n_labels=len(self.labels)\n",
    " #   print(self.n_labels)\n",
    "    #create dict. to convert label to int and backwards\n",
    "    self.label_to_int = dict(zip(self.labels,range(self.n_labels)))\n",
    "#    print(self.label_to_int)\n",
    "    self.int_to_labels = dict(enumerate(self.labels))\n",
    "#    print(self.int_to_labels)\n",
    "    dictionary = {0:self.labels}\n",
    "\n",
    "  def load_video_labels(self,path_subset,mode='label'):\n",
    "    if mode=='input':\n",
    "        names=['video_id']\n",
    "    elif mode=='label':\n",
    "        names=['video_id','label']\n",
    "\n",
    "    df =pd.read_csv(path_subset,sep=';',names=names)\n",
    "\n",
    "    if mode=='label':\n",
    "      df=df[df.label.isin(self.labels)]\n",
    " #   print(df)\n",
    "    return df\n",
    "  #def catgerocial_to_label(self):\n",
    "    "
   ]
  },
  {
   "cell_type": "code",
   "execution_count": 7,
   "id": "7b36e06a",
   "metadata": {},
   "outputs": [],
   "source": [
    "#self.labels_df = pd.read_csv(path_labels, names=['label'])  # Or specific encoding you find"
   ]
  },
  {
   "cell_type": "code",
   "execution_count": 8,
   "id": "79c41752",
   "metadata": {},
   "outputs": [],
   "source": [
    "data_root = r\"C:\\Users\\Asus1\\Downloads\\archive\""
   ]
  },
  {
   "cell_type": "code",
   "execution_count": 9,
   "id": "3d96a090",
   "metadata": {},
   "outputs": [],
   "source": [
    "import os"
   ]
  },
  {
   "cell_type": "code",
   "execution_count": 10,
   "id": "721f8801",
   "metadata": {},
   "outputs": [],
   "source": [
    "csv_labels= r\"C:\\Users\\Asus1\\Downloads\\archive\\new_jester_v1.csv\"\n",
    "csv_train= r\"C:\\Users\\Asus1\\Downloads\\archive\\new_train.csv\"\n",
    "csv_test= r\"C:\\Users\\Asus1\\Downloads\\archive\\new_test.csv\"\n",
    "csv_val=r\"C:\\Users\\Asus1\\Downloads\\archive\\new_validation.csv\"\n",
    "data_test_vid=r\"C:\\Users\\Asus1\\Downloads\\archive\\Test\"\n",
    "\n",
    "model_name='resent_3d_model'\n",
    "data_model=r\"c\""
   ]
  },
  {
   "cell_type": "code",
   "execution_count": 11,
   "id": "703ffe7e",
   "metadata": {},
   "outputs": [],
   "source": [
    "from os import path\n",
    "\n",
    "path_model=os.path.join(data_root,data_model,model_name)\n",
    "\n",
    "path_vid = os.path.join(data_root,data_test_vid)\n",
    "path_labels= os.path.join(data_root,csv_labels) \n",
    "path_train= os.path.join(data_root, csv_train) \n",
    "path_val=os.path.join(data_root, csv_val)\n",
    "path_test = os.path.join(data_root, csv_test) "
   ]
  },
  {
   "cell_type": "code",
   "execution_count": 12,
   "id": "f85248f9",
   "metadata": {},
   "outputs": [],
   "source": [
    "data = DataLoader(path_vid,path_labels,path_train,path_val)"
   ]
  },
  {
   "cell_type": "code",
   "execution_count": 13,
   "id": "a0558e92",
   "metadata": {},
   "outputs": [],
   "source": [
    "def mkdirs(folder,permission):\n",
    "    if not os.path.exists(folder):\n",
    "        try:\n",
    "            original_umask=os.umask(0)\n",
    "            os.makedirs(folder,permission,exist_ok=True)\n",
    "        finally:\n",
    "            os.umask(original_umask)"
   ]
  },
  {
   "cell_type": "code",
   "execution_count": 14,
   "id": "eb381571",
   "metadata": {
    "scrolled": true
   },
   "outputs": [],
   "source": [
    "#data = DataLoader(path_vid,path_labels,path_train,path_val)\n",
    "mkdirs(path_model,0o755)\n",
    "mkdirs(os.path.join(path_model,\"graphs\"),0o755)"
   ]
  },
  {
   "cell_type": "code",
   "execution_count": 15,
   "id": "a9ea3e17",
   "metadata": {
    "scrolled": true
   },
   "outputs": [
    {
     "name": "stdout",
     "output_type": "stream",
     "text": [
      "Found 48621 video folders belonging to 27 classes.\n",
      "Found 6785 video folders belonging to 27 classes.\n"
     ]
    }
   ],
   "source": [
    "gen=img.ImageDataGenerator()\n",
    "gen_train=gen.flow_video_from_dataframe(data.train_df,path_vid,path_classes=path_labels,x_col='video_id',y_col='labels',target_size=target_size, batch_size=batch_size,nb_frames=nb_frames,skip=skip,has_ext=True)\n",
    "gen_val=gen.flow_video_from_dataframe(data.val_df,path_vid,path_classes=path_labels,x_col='video_id',y_col='labels',target_size=target_size,batch_size=batch_size,nb_frames=nb_frames,skip=skip,has_ext=True)\n"
   ]
  },
  {
   "cell_type": "code",
   "execution_count": 16,
   "id": "b4227bee",
   "metadata": {},
   "outputs": [
    {
     "name": "stderr",
     "output_type": "stream",
     "text": [
      "C:\\Users\\Asus1\\anaconda3\\envs\\dhgr\\lib\\site-packages\\keras\\optimizer_v2\\gradient_descent.py:102: UserWarning: The `lr` argument is deprecated, use `learning_rate` instead.\n",
      "  super(SGD, self).__init__(name, **kwargs)\n"
     ]
    }
   ],
   "source": [
    "resnet_model=Resnet3DBuilder.build_resnet_101(input_shape,nb_classes,drop_rate=0.5)\n",
    "optimizer=SGD(lr=0.01,momentum=0.9,decay=0.0001,nesterov=False)\n",
    "resnet_model.compile(optimizer=optimizer,loss=\"categorical_crossentropy\",metrics=[\"accuracy\"])\n",
    "model_file=os.path.join(path_model,'resnetmodel.hdf5')"
   ]
  },
  {
   "cell_type": "code",
   "execution_count": 17,
   "id": "ca6ccb33",
   "metadata": {},
   "outputs": [
    {
     "name": "stdout",
     "output_type": "stream",
     "text": [
      "WARNING:tensorflow:ModelCheckpoint mode <built-in function max> is unknown, fallback to auto mode.\n"
     ]
    }
   ],
   "source": [
    "model_checkpointer=ModelCheckpoint(model_file,monitors='val_acc',verbose=1,save_best_only=True,mode=max)\n"
   ]
  },
  {
   "cell_type": "code",
   "execution_count": 18,
   "id": "24e3f00f",
   "metadata": {},
   "outputs": [],
   "source": [
    "history_graph=HistoryGraph(model_path_name=os.path.join(path_model,\"graphs\"))"
   ]
  },
  {
   "cell_type": "code",
   "execution_count": 19,
   "id": "bd503fab",
   "metadata": {},
   "outputs": [],
   "source": [
    "nb_sample_train=data.train_df[\"video_id\"].size\n",
    "nb_sample_val=data.val_df[\"video_id\"].size"
   ]
  },
  {
   "cell_type": "code",
   "execution_count": 20,
   "id": "4e589d73",
   "metadata": {},
   "outputs": [],
   "source": [
    "import math\n",
    "resnet_model.fit_generator(\n",
    "generator=gen_train,\n",
    "steps_per_epoch=math.ceil(nb_sample_train / batch_size),\n",
    "epochs=10,\n",
    "validation_data=gen_val,\n",
    "validation_steps=30,\n",
    "shuffle=False,\n",
    "verbose=1,\n",
    "workers=workers,\n",
    "max_queue_size=max_queue_size,\n",
    "use_multiprocessing=use_multiprocessing,\n",
    "callbacks=[model_checkpointer, history_graph])"
   ]
  }
 ],
 "metadata": {
  "kernelspec": {
   "display_name": "dhgr",
   "language": "python",
   "name": "dhgr"
  },
  "language_info": {
   "codemirror_mode": {
    "name": "ipython",
    "version": 3
   },
   "file_extension": ".py",
   "mimetype": "text/x-python",
   "name": "python",
   "nbconvert_exporter": "python",
   "pygments_lexer": "ipython3",
   "version": "3.10.13"
  }
 },
 "nbformat": 4,
 "nbformat_minor": 5
}
